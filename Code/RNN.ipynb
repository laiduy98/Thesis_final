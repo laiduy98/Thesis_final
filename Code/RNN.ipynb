{
 "cells": [
  {
   "cell_type": "code",
   "execution_count": 9,
   "metadata": {},
   "outputs": [
    {
     "name": "stdout",
     "output_type": "stream",
     "text": [
      "(702, 400, 1)\n",
      "(400, 1)\n",
      "Train on 561 samples, validate on 141 samples\n",
      "Epoch 1/5\n",
      "561/561 [==============================] - 17s 30ms/sample - loss: nan - acc: 0.3119 - val_loss: nan - val_acc: 0.4184\n",
      "Epoch 2/5\n",
      "561/561 [==============================] - 13s 23ms/sample - loss: nan - acc: 0.3119 - val_loss: nan - val_acc: 0.4184\n",
      "Epoch 3/5\n",
      "561/561 [==============================] - 13s 24ms/sample - loss: nan - acc: 0.3119 - val_loss: nan - val_acc: 0.4184\n",
      "Epoch 4/5\n",
      "561/561 [==============================] - 13s 23ms/sample - loss: nan - acc: 0.3119 - val_loss: nan - val_acc: 0.4184\n",
      "Epoch 5/5\n",
      "561/561 [==============================] - 13s 24ms/sample - loss: nan - acc: 0.3119 - val_loss: nan - val_acc: 0.4184\n"
     ]
    },
    {
     "data": {
      "text/plain": [
       "<tensorflow.python.keras.callbacks.History at 0x1eae612b388>"
      ]
     },
     "execution_count": 9,
     "metadata": {},
     "output_type": "execute_result"
    }
   ],
   "source": [
    "import tensorflow as tf\n",
    "from tensorflow.keras.models import Sequential\n",
    "from tensorflow.keras.layers import Dense, Dropout, LSTM\n",
    "import numpy as np\n",
    "import pickle\n",
    "from sklearn.preprocessing import scale\n",
    "\n",
    "# X = pickle.load(open(\"X.pickle\",\"rb\")) #read data\n",
    "# Y= pickle.load(open(\"Y.pickle\",\"rb\"))\n",
    "# Y = np.array(Y)\n",
    "\n",
    "X = pickle.load(open(\"X400.pickle\",\"rb\")) #read data\n",
    "Y= pickle.load(open(\"Y400.pickle\",\"rb\"))\n",
    "Y = np.array(Y)\n",
    "# mnist = tf.keras.datasets.mnist \n",
    "# (x_train, y_train),(x_test, y_test) = mnist.load_data() \n",
    "\n",
    "# x_train = x_train/255.0\n",
    "# x_test = x_test/255.0\n",
    "\n",
    "print(X.shape)\n",
    "print(X[0].shape)\n",
    "\n",
    "model = Sequential()\n",
    "\n",
    "model.add(LSTM(16, input_shape=(X.shape[1:]), activation='relu', return_sequences=True))\n",
    "model.add(Dropout(0.2))\n",
    "\n",
    "model.add(LSTM(16, activation='relu'))\n",
    "model.add(Dropout(0.2))\n",
    "\n",
    "model.add(Dense(10, activation='relu'))\n",
    "model.add(Dropout(0.2))\n",
    "\n",
    "model.add(Dense(4, activation='softmax'))\n",
    "\n",
    "opt = tf.keras.optimizers.Adam(lr=0.001, decay=1e-6)\n",
    "\n",
    "# Compile model\n",
    "model.compile(\n",
    "    loss='sparse_categorical_crossentropy',\n",
    "    optimizer=opt,\n",
    "    metrics=['accuracy'],\n",
    ")\n",
    "\n",
    "model.fit(X,\n",
    "          Y,\n",
    "          epochs=5,\n",
    "          validation_split = 0.2)"
   ]
  },
  {
   "cell_type": "code",
   "execution_count": null,
   "metadata": {},
   "outputs": [],
   "source": []
  },
  {
   "cell_type": "code",
   "execution_count": 5,
   "metadata": {},
   "outputs": [
    {
     "data": {
      "text/plain": [
       "(60000,)"
      ]
     },
     "execution_count": 5,
     "metadata": {},
     "output_type": "execute_result"
    }
   ],
   "source": [
    "y_train.shape"
   ]
  },
  {
   "cell_type": "code",
   "execution_count": 11,
   "metadata": {},
   "outputs": [
    {
     "data": {
      "text/plain": [
       "list"
      ]
     },
     "execution_count": 11,
     "metadata": {},
     "output_type": "execute_result"
    }
   ],
   "source": [
    "type(Y)"
   ]
  },
  {
   "cell_type": "code",
   "execution_count": null,
   "metadata": {},
   "outputs": [],
   "source": []
  },
  {
   "cell_type": "code",
   "execution_count": 4,
   "metadata": {},
   "outputs": [
    {
     "name": "stdout",
     "output_type": "stream",
     "text": [
      "(1482, 200, 1)\n",
      "(200, 1)\n",
      "Train on 1185 samples, validate on 297 samples\n",
      "Epoch 1/5\n",
      "1185/1185 [==============================] - 14s 12ms/sample - loss: 27674365.6102 - acc: 0.1941 - val_loss: 808083672.5657 - val_acc: 0.2626\n",
      "Epoch 2/5\n",
      "1185/1185 [==============================] - 11s 10ms/sample - loss: 1181129263.3304 - acc: 0.2692 - val_loss: 645735909.3704 - val_acc: 0.3805\n",
      "Epoch 3/5\n",
      "1185/1185 [==============================] - 11s 9ms/sample - loss: 187978325447.5785 - acc: 0.3089 - val_loss: 1982402886.0608 - val_acc: 0.3401\n",
      "Epoch 4/5\n",
      "1185/1185 [==============================] - 11s 10ms/sample - loss: 7174331319.0328 - acc: 0.3764 - val_loss: 1619.9446 - val_acc: 0.3771\n",
      "Epoch 5/5\n",
      "1185/1185 [==============================] - 12s 10ms/sample - loss: 568.4520 - acc: 0.3924 - val_loss: 17.7120 - val_acc: 0.3939\n"
     ]
    },
    {
     "data": {
      "text/plain": [
       "<tensorflow.python.keras.callbacks.History at 0x1e9082c0348>"
      ]
     },
     "execution_count": 4,
     "metadata": {},
     "output_type": "execute_result"
    }
   ],
   "source": [
    "import tensorflow as tf\n",
    "from tensorflow.keras.models import Sequential\n",
    "from tensorflow.keras.layers import Dense, Dropout, LSTM\n",
    "import numpy as np\n",
    "import pickle\n",
    "from sklearn.preprocessing import scale\n",
    "\n",
    "X = pickle.load(open(\"X.pickle\",\"rb\")) #read data\n",
    "Y= pickle.load(open(\"Y.pickle\",\"rb\"))\n",
    "Y = np.array(Y)\n",
    "\n",
    "# X = pickle.load(open(\"X400.pickle\",\"rb\")) #read data\n",
    "# Y= pickle.load(open(\"Y400.pickle\",\"rb\"))\n",
    "# Y = np.array(Y)\n",
    "# mnist = tf.keras.datasets.mnist \n",
    "# (x_train, y_train),(x_test, y_test) = mnist.load_data() \n",
    "\n",
    "# x_train = x_train/255.0\n",
    "# x_test = x_test/255.0\n",
    "\n",
    "print(X.shape)\n",
    "print(X[0].shape)\n",
    "\n",
    "model = Sequential()\n",
    "\n",
    "model.add(LSTM(16, input_shape=(X.shape[1:]), activation='relu', return_sequences=True))\n",
    "model.add(Dropout(0.2))\n",
    "\n",
    "model.add(LSTM(16, activation='relu'))\n",
    "model.add(Dropout(0.1))\n",
    "\n",
    "model.add(Dense(32, activation='relu'))\n",
    "model.add(Dropout(0.2))\n",
    "\n",
    "model.add(Dense(10, activation='softmax'))\n",
    "\n",
    "opt = tf.keras.optimizers.Adam(lr=0.001, decay=1e-6)\n",
    "\n",
    "# Compile model\n",
    "model.compile(\n",
    "    loss='sparse_categorical_crossentropy',\n",
    "    optimizer=opt,\n",
    "    metrics=['accuracy'],\n",
    ")\n",
    "\n",
    "model.fit(X,\n",
    "          Y,\n",
    "          epochs=5,\n",
    "          validation_split = 0.2)"
   ]
  },
  {
   "cell_type": "code",
   "execution_count": null,
   "metadata": {},
   "outputs": [],
   "source": []
  }
 ],
 "metadata": {
  "kernelspec": {
   "display_name": "Python 3",
   "language": "python",
   "name": "python3"
  },
  "language_info": {
   "codemirror_mode": {
    "name": "ipython",
    "version": 3
   },
   "file_extension": ".py",
   "mimetype": "text/x-python",
   "name": "python",
   "nbconvert_exporter": "python",
   "pygments_lexer": "ipython3",
   "version": "3.7.4"
  }
 },
 "nbformat": 4,
 "nbformat_minor": 4
}
