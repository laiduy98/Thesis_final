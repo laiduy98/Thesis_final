{
 "cells": [
  {
   "cell_type": "code",
   "execution_count": 25,
   "metadata": {},
   "outputs": [
    {
     "name": "stdout",
     "output_type": "stream",
     "text": [
      "1482\n"
     ]
    }
   ],
   "source": [
    "import matplotlib.pyplot as plt\n",
    "import pickle\n",
    "import numpy as np\n",
    "from sklearn import datasets\n",
    "from sklearn import svm\n",
    "from sklearn.metrics import accuracy_score\n",
    "\n",
    "\n",
    "X = pickle.load(open(\"X.pickle\",\"rb\")) #read data\n",
    "Y= pickle.load(open(\"Y.pickle\",\"rb\"))\n",
    "Y = np.array(Y)\n",
    "\n",
    "clf = svm.SVC(gamma = 'scale',  C = 500)\n",
    "\n",
    "print(len(X))"
   ]
  },
  {
   "cell_type": "code",
   "execution_count": 27,
   "metadata": {},
   "outputs": [],
   "source": [
    "X = X.reshape(1482,200)"
   ]
  },
  {
   "cell_type": "code",
   "execution_count": 30,
   "metadata": {},
   "outputs": [
    {
     "data": {
      "text/plain": [
       "SVC(C=500, cache_size=200, class_weight=None, coef0=0.0,\n",
       "    decision_function_shape='ovr', degree=3, gamma='scale', kernel='rbf',\n",
       "    max_iter=-1, probability=False, random_state=None, shrinking=True,\n",
       "    tol=0.001, verbose=False)"
      ]
     },
     "execution_count": 30,
     "metadata": {},
     "output_type": "execute_result"
    }
   ],
   "source": [
    "x,y = X[:-200], Y[:-200]\n",
    "x_test, y_test = X[1282:,:], Y[1282:]\n",
    "clf.fit(x,y)"
   ]
  },
  {
   "cell_type": "code",
   "execution_count": 31,
   "metadata": {},
   "outputs": [
    {
     "ename": "NameError",
     "evalue": "name 'digits' is not defined",
     "output_type": "error",
     "traceback": [
      "\u001b[1;31m---------------------------------------------------------------------------\u001b[0m",
      "\u001b[1;31mNameError\u001b[0m                                 Traceback (most recent call last)",
      "\u001b[1;32m<ipython-input-31-4438ef155661>\u001b[0m in \u001b[0;36m<module>\u001b[1;34m\u001b[0m\n\u001b[0;32m      1\u001b[0m \u001b[0mplace\u001b[0m \u001b[1;33m=\u001b[0m \u001b[1;33m-\u001b[0m\u001b[1;36m1\u001b[0m\u001b[1;33m\u001b[0m\u001b[1;33m\u001b[0m\u001b[0m\n\u001b[0;32m      2\u001b[0m \u001b[1;33m\u001b[0m\u001b[0m\n\u001b[1;32m----> 3\u001b[1;33m \u001b[0mprint\u001b[0m\u001b[1;33m(\u001b[0m\u001b[1;34m'Prediction: '\u001b[0m\u001b[1;33m,\u001b[0m \u001b[0mclf\u001b[0m\u001b[1;33m.\u001b[0m\u001b[0mpredict\u001b[0m\u001b[1;33m(\u001b[0m\u001b[0mdigits\u001b[0m\u001b[1;33m.\u001b[0m\u001b[0mdata\u001b[0m\u001b[1;33m)\u001b[0m\u001b[1;33m[\u001b[0m\u001b[0mplace\u001b[0m\u001b[1;33m]\u001b[0m\u001b[1;33m)\u001b[0m\u001b[1;33m\u001b[0m\u001b[1;33m\u001b[0m\u001b[0m\n\u001b[0m\u001b[0;32m      4\u001b[0m \u001b[0mprint\u001b[0m\u001b[1;33m(\u001b[0m\u001b[1;34m\"Actual: \"\u001b[0m\u001b[1;33m,\u001b[0m\u001b[0mdigits\u001b[0m\u001b[1;33m.\u001b[0m\u001b[0mtarget\u001b[0m\u001b[1;33m[\u001b[0m\u001b[0mplace\u001b[0m\u001b[1;33m]\u001b[0m\u001b[1;33m)\u001b[0m\u001b[1;33m\u001b[0m\u001b[1;33m\u001b[0m\u001b[0m\n",
      "\u001b[1;31mNameError\u001b[0m: name 'digits' is not defined"
     ]
    }
   ],
   "source": [
    "place = -1\n",
    "\n",
    "print('Prediction: ', clf.predict(digits.data)[place])\n",
    "print(\"Actual: \",digits.target[place])"
   ]
  },
  {
   "cell_type": "code",
   "execution_count": 32,
   "metadata": {},
   "outputs": [
    {
     "name": "stdout",
     "output_type": "stream",
     "text": [
      "0.575\n"
     ]
    }
   ],
   "source": [
    "predicted = clf.predict(x_test)\n",
    "\n",
    "print(accuracy_score(y_test, predicted))"
   ]
  },
  {
   "cell_type": "code",
   "execution_count": 33,
   "metadata": {},
   "outputs": [
    {
     "data": {
      "text/plain": [
       "array([0, 2, 2, 1, 3, 3, 0, 3, 0, 0, 0, 2, 0, 1, 1, 1, 3, 0, 0, 2, 3, 3,\n",
       "       3, 1, 0, 0, 0, 2, 1, 3, 2, 3, 0, 3, 3, 2, 3, 3, 1, 0, 0, 0, 0, 0,\n",
       "       3, 2, 0, 1, 3, 2, 0, 2, 0, 0, 2, 0, 1, 3, 2, 3, 3, 0, 3, 0, 2, 3,\n",
       "       3, 0, 3, 0, 0, 2, 2, 3, 3, 0, 0, 0, 0, 0, 2, 0, 2, 3, 1, 2, 0, 0,\n",
       "       0, 2, 0, 3, 3, 0, 1, 1, 1, 3, 0, 3, 0, 0, 2, 3, 0, 1, 1, 0, 1, 2,\n",
       "       0, 0, 0, 1, 0, 0, 0, 2, 1, 2, 1, 0, 2, 0, 0, 2, 2, 0, 0, 0, 1, 3,\n",
       "       0, 0, 3, 2, 1, 3, 3, 3, 2, 0, 0, 3, 2, 3, 3, 1, 2, 0, 2, 2, 3, 3,\n",
       "       3, 2, 0, 2, 0, 3, 3, 0, 0, 3, 3, 1, 3, 0, 1, 2, 0, 3, 3, 1, 2, 0,\n",
       "       2, 1, 3, 0, 1, 2, 0, 3, 2, 3, 3, 3, 3, 3, 3, 0, 3, 3, 1, 0, 3, 0,\n",
       "       0, 0])"
      ]
     },
     "execution_count": 33,
     "metadata": {},
     "output_type": "execute_result"
    }
   ],
   "source": [
    "y_test"
   ]
  },
  {
   "cell_type": "code",
   "execution_count": 34,
   "metadata": {},
   "outputs": [
    {
     "data": {
      "text/plain": [
       "array([0, 0, 0, 3, 3, 3, 0, 0, 0, 3, 0, 1, 0, 0, 1, 0, 0, 0, 0, 2, 3, 0,\n",
       "       2, 0, 3, 3, 0, 3, 0, 0, 2, 1, 0, 3, 3, 2, 3, 3, 1, 0, 0, 2, 0, 2,\n",
       "       0, 0, 0, 0, 2, 2, 3, 0, 0, 0, 2, 0, 3, 3, 2, 0, 3, 0, 3, 0, 2, 3,\n",
       "       3, 2, 1, 0, 0, 2, 2, 3, 1, 0, 0, 3, 0, 0, 2, 0, 2, 3, 1, 2, 0, 0,\n",
       "       2, 2, 0, 0, 3, 0, 3, 0, 0, 0, 0, 3, 0, 0, 0, 3, 0, 3, 0, 1, 0, 0,\n",
       "       0, 0, 0, 0, 1, 0, 0, 2, 3, 2, 1, 0, 0, 0, 0, 3, 3, 3, 0, 0, 1, 0,\n",
       "       0, 0, 3, 0, 0, 3, 2, 3, 0, 0, 0, 3, 0, 0, 0, 3, 2, 2, 1, 2, 2, 3,\n",
       "       2, 0, 0, 2, 0, 3, 0, 2, 0, 3, 3, 2, 3, 0, 2, 0, 0, 3, 0, 0, 2, 3,\n",
       "       2, 1, 3, 3, 1, 3, 0, 3, 1, 2, 3, 0, 0, 2, 2, 0, 2, 1, 2, 0, 1, 0,\n",
       "       0, 0])"
      ]
     },
     "execution_count": 34,
     "metadata": {},
     "output_type": "execute_result"
    }
   ],
   "source": [
    "predicted"
   ]
  },
  {
   "cell_type": "markdown",
   "metadata": {},
   "source": []
  },
  {
   "cell_type": "code",
   "execution_count": null,
   "metadata": {},
   "outputs": [],
   "source": []
  }
 ],
 "metadata": {
  "kernelspec": {
   "display_name": "Python 3",
   "language": "python",
   "name": "python3"
  },
  "language_info": {
   "codemirror_mode": {
    "name": "ipython",
    "version": 3
   },
   "file_extension": ".py",
   "mimetype": "text/x-python",
   "name": "python",
   "nbconvert_exporter": "python",
   "pygments_lexer": "ipython3",
   "version": "3.7.4"
  }
 },
 "nbformat": 4,
 "nbformat_minor": 4
}
